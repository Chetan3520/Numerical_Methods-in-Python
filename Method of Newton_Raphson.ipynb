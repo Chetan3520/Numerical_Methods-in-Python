{
 "cells": [
  {
   "cell_type": "code",
   "execution_count": 4,
   "id": "5830d30d",
   "metadata": {},
   "outputs": [
    {
     "data": {
      "text/html": [
       "<div>\n",
       "<style scoped>\n",
       "    .dataframe tbody tr th:only-of-type {\n",
       "        vertical-align: middle;\n",
       "    }\n",
       "\n",
       "    .dataframe tbody tr th {\n",
       "        vertical-align: top;\n",
       "    }\n",
       "\n",
       "    .dataframe thead th {\n",
       "        text-align: right;\n",
       "    }\n",
       "</style>\n",
       "<table border=\"1\" class=\"dataframe\">\n",
       "  <thead>\n",
       "    <tr style=\"text-align: right;\">\n",
       "      <th></th>\n",
       "      <th>x1</th>\n",
       "      <th>f(x1)</th>\n",
       "      <th>f1(x1)</th>\n",
       "      <th>x2</th>\n",
       "    </tr>\n",
       "  </thead>\n",
       "  <tbody>\n",
       "    <tr>\n",
       "      <th>0</th>\n",
       "      <td>5.000000</td>\n",
       "      <td>-2.000000e+00</td>\n",
       "      <td>6.000000</td>\n",
       "      <td>5.333333</td>\n",
       "    </tr>\n",
       "    <tr>\n",
       "      <th>1</th>\n",
       "      <td>5.333333</td>\n",
       "      <td>1.111111e-01</td>\n",
       "      <td>6.666667</td>\n",
       "      <td>5.316667</td>\n",
       "    </tr>\n",
       "    <tr>\n",
       "      <th>2</th>\n",
       "      <td>5.316667</td>\n",
       "      <td>2.777778e-04</td>\n",
       "      <td>6.633333</td>\n",
       "      <td>5.316625</td>\n",
       "    </tr>\n",
       "    <tr>\n",
       "      <th>3</th>\n",
       "      <td>5.316625</td>\n",
       "      <td>1.753602e-09</td>\n",
       "      <td>6.633250</td>\n",
       "      <td>5.316625</td>\n",
       "    </tr>\n",
       "  </tbody>\n",
       "</table>\n",
       "</div>"
      ],
      "text/plain": [
       "         x1         f(x1)    f1(x1)        x2\n",
       "0  5.000000 -2.000000e+00  6.000000  5.333333\n",
       "1  5.333333  1.111111e-01  6.666667  5.316667\n",
       "2  5.316667  2.777778e-04  6.633333  5.316625\n",
       "3  5.316625  1.753602e-09  6.633250  5.316625"
      ]
     },
     "execution_count": 4,
     "metadata": {},
     "output_type": "execute_result"
    }
   ],
   "source": [
    "import numpy as np \n",
    "import pandas as pd\n",
    "import sympy as sym\n",
    "def f(x):\n",
    "    return(x**2-4*x-7)\n",
    "def f1(x):\n",
    "    return(2*x-4)\n",
    "\n",
    "x1=5\n",
    "e=1\n",
    "x2=x1-(f(x1)/f1(x1))\n",
    "l=[]\n",
    "l1=[x1,f(x1),f1(x1),x2]\n",
    "l.append(l1)\n",
    "\n",
    "while(e>0.01):\n",
    "    e=abs(x1-x2)\n",
    "    x1=x2\n",
    "    x2=x1-(f(x1)/f1(x1))\n",
    "    l2=[x1,f(x1),f1(x1),x2]\n",
    "    l.append(l2)\n",
    "df=pd.DataFrame(l)\n",
    "new=df.rename(columns={0:'x1',1:'f(x1)',2:'f1(x1)',3:'x2'});new\n"
   ]
  },
  {
   "cell_type": "code",
   "execution_count": null,
   "id": "8bc046a9",
   "metadata": {},
   "outputs": [],
   "source": []
  },
  {
   "cell_type": "code",
   "execution_count": null,
   "id": "7c62c635",
   "metadata": {},
   "outputs": [],
   "source": []
  }
 ],
 "metadata": {
  "kernelspec": {
   "display_name": "Python 3",
   "language": "python",
   "name": "python3"
  },
  "language_info": {
   "codemirror_mode": {
    "name": "ipython",
    "version": 3
   },
   "file_extension": ".py",
   "mimetype": "text/x-python",
   "name": "python",
   "nbconvert_exporter": "python",
   "pygments_lexer": "ipython3",
   "version": "3.8.8"
  }
 },
 "nbformat": 4,
 "nbformat_minor": 5
}
