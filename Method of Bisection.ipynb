{
 "cells": [
  {
   "cell_type": "markdown",
   "id": "a1072b6a",
   "metadata": {},
   "source": [
    "# Method of Bisection"
   ]
  },
  {
   "cell_type": "code",
   "execution_count": 1,
   "id": "fb77b43b",
   "metadata": {},
   "outputs": [
    {
     "name": "stdout",
     "output_type": "stream",
     "text": [
      "[[1, 3, 2.0, -6, -1.0, 6.0]]\n"
     ]
    },
    {
     "data": {
      "text/html": [
       "<div>\n",
       "<style scoped>\n",
       "    .dataframe tbody tr th:only-of-type {\n",
       "        vertical-align: middle;\n",
       "    }\n",
       "\n",
       "    .dataframe tbody tr th {\n",
       "        vertical-align: top;\n",
       "    }\n",
       "\n",
       "    .dataframe thead th {\n",
       "        text-align: right;\n",
       "    }\n",
       "</style>\n",
       "<table border=\"1\" class=\"dataframe\">\n",
       "  <thead>\n",
       "    <tr style=\"text-align: right;\">\n",
       "      <th></th>\n",
       "      <th>a</th>\n",
       "      <th>b</th>\n",
       "      <th>x</th>\n",
       "      <th>f(a)</th>\n",
       "      <th>f(x)</th>\n",
       "      <th>f(a)*f(x)</th>\n",
       "    </tr>\n",
       "  </thead>\n",
       "  <tbody>\n",
       "    <tr>\n",
       "      <th>0</th>\n",
       "      <td>1.0000</td>\n",
       "      <td>3.000</td>\n",
       "      <td>2.00000</td>\n",
       "      <td>-6.000000</td>\n",
       "      <td>-1.000000</td>\n",
       "      <td>6.000000</td>\n",
       "    </tr>\n",
       "    <tr>\n",
       "      <th>1</th>\n",
       "      <td>2.0000</td>\n",
       "      <td>3.000</td>\n",
       "      <td>2.50000</td>\n",
       "      <td>-1.000000</td>\n",
       "      <td>5.625000</td>\n",
       "      <td>-5.625000</td>\n",
       "    </tr>\n",
       "    <tr>\n",
       "      <th>2</th>\n",
       "      <td>2.0000</td>\n",
       "      <td>2.500</td>\n",
       "      <td>2.25000</td>\n",
       "      <td>-1.000000</td>\n",
       "      <td>1.890625</td>\n",
       "      <td>-1.890625</td>\n",
       "    </tr>\n",
       "    <tr>\n",
       "      <th>3</th>\n",
       "      <td>2.0000</td>\n",
       "      <td>2.250</td>\n",
       "      <td>2.12500</td>\n",
       "      <td>-1.000000</td>\n",
       "      <td>0.345703</td>\n",
       "      <td>-0.345703</td>\n",
       "    </tr>\n",
       "    <tr>\n",
       "      <th>4</th>\n",
       "      <td>2.0000</td>\n",
       "      <td>2.125</td>\n",
       "      <td>2.06250</td>\n",
       "      <td>-1.000000</td>\n",
       "      <td>-0.351318</td>\n",
       "      <td>0.351318</td>\n",
       "    </tr>\n",
       "    <tr>\n",
       "      <th>5</th>\n",
       "      <td>2.0625</td>\n",
       "      <td>2.125</td>\n",
       "      <td>2.09375</td>\n",
       "      <td>-0.351318</td>\n",
       "      <td>-0.008942</td>\n",
       "      <td>0.003141</td>\n",
       "    </tr>\n",
       "  </tbody>\n",
       "</table>\n",
       "</div>"
      ],
      "text/plain": [
       "        a      b        x      f(a)      f(x)  f(a)*f(x)\n",
       "0  1.0000  3.000  2.00000 -6.000000 -1.000000   6.000000\n",
       "1  2.0000  3.000  2.50000 -1.000000  5.625000  -5.625000\n",
       "2  2.0000  2.500  2.25000 -1.000000  1.890625  -1.890625\n",
       "3  2.0000  2.250  2.12500 -1.000000  0.345703  -0.345703\n",
       "4  2.0000  2.125  2.06250 -1.000000 -0.351318   0.351318\n",
       "5  2.0625  2.125  2.09375 -0.351318 -0.008942   0.003141"
      ]
     },
     "execution_count": 1,
     "metadata": {},
     "output_type": "execute_result"
    }
   ],
   "source": [
    "import pandas as pd\n",
    "import numpy as np\n",
    "def f(x):\n",
    "    return(pow(x,3)-2*x-5)\n",
    "a=1\n",
    "b=3\n",
    "x=(a+b)/2\n",
    "l=[]\n",
    "l1=[a,b,x,f(a),f(x),f(a)*f(x)]\n",
    "l.append(l1)\n",
    "print(l)\n",
    "for i in range(5):\n",
    "    if(f(a)*f(x)>0):\n",
    "        a=x\n",
    "    else:\n",
    "        b=x\n",
    "    x=(a+b)/2\n",
    "    l2=[a,b,x,f(a),f(x),f(a)*f(x)]\n",
    "    l.append(l2)\n",
    "df=pd.DataFrame(l)\n",
    "new=df.rename(columns={0:'a',1:'b',2:'x',3:'f(a)',4:'f(x)',5:'f(a)*f(x)'})\n",
    "new\n",
    "    \n"
   ]
  },
  {
   "cell_type": "markdown",
   "id": "05819245",
   "metadata": {},
   "source": [
    "# Trial and Errors"
   ]
  },
  {
   "cell_type": "code",
   "execution_count": 2,
   "id": "769925fe",
   "metadata": {},
   "outputs": [
    {
     "ename": "AttributeError",
     "evalue": "module 'pandas' has no attribute 'df'",
     "output_type": "error",
     "traceback": [
      "\u001b[1;31m---------------------------------------------------------------------------\u001b[0m",
      "\u001b[1;31mAttributeError\u001b[0m                            Traceback (most recent call last)",
      "\u001b[1;32m<ipython-input-2-5ea9f022edd8>\u001b[0m in \u001b[0;36m<module>\u001b[1;34m\u001b[0m\n\u001b[1;32m----> 1\u001b[1;33m \u001b[0mpd\u001b[0m\u001b[1;33m.\u001b[0m\u001b[0mdf\u001b[0m\u001b[1;33m[\u001b[0m\u001b[0mnames\u001b[0m\u001b[1;33m[\u001b[0m\u001b[1;34m'a'\u001b[0m\u001b[1;33m,\u001b[0m\u001b[1;34m'b'\u001b[0m\u001b[1;33m,\u001b[0m\u001b[1;34m'x'\u001b[0m\u001b[1;33m,\u001b[0m\u001b[1;34m'f(a)'\u001b[0m\u001b[1;33m,\u001b[0m\u001b[1;34m'f(x)'\u001b[0m\u001b[1;33m,\u001b[0m\u001b[1;34m'f(a)*f(x)'\u001b[0m\u001b[1;33m]\u001b[0m\u001b[1;33m]\u001b[0m\u001b[1;33m\u001b[0m\u001b[1;33m\u001b[0m\u001b[0m\n\u001b[0m",
      "\u001b[1;32m~\\anaconda3\\lib\\site-packages\\pandas\\__init__.py\u001b[0m in \u001b[0;36m__getattr__\u001b[1;34m(name)\u001b[0m\n\u001b[0;32m    242\u001b[0m         \u001b[1;32mreturn\u001b[0m \u001b[0m_SparseArray\u001b[0m\u001b[1;33m\u001b[0m\u001b[1;33m\u001b[0m\u001b[0m\n\u001b[0;32m    243\u001b[0m \u001b[1;33m\u001b[0m\u001b[0m\n\u001b[1;32m--> 244\u001b[1;33m     \u001b[1;32mraise\u001b[0m \u001b[0mAttributeError\u001b[0m\u001b[1;33m(\u001b[0m\u001b[1;34mf\"module 'pandas' has no attribute '{name}'\"\u001b[0m\u001b[1;33m)\u001b[0m\u001b[1;33m\u001b[0m\u001b[1;33m\u001b[0m\u001b[0m\n\u001b[0m\u001b[0;32m    245\u001b[0m \u001b[1;33m\u001b[0m\u001b[0m\n\u001b[0;32m    246\u001b[0m \u001b[1;33m\u001b[0m\u001b[0m\n",
      "\u001b[1;31mAttributeError\u001b[0m: module 'pandas' has no attribute 'df'"
     ]
    }
   ],
   "source": [
    "pd.df[names['a','b','x','f(a)','f(x)','f(a)*f(x)']]\n"
   ]
  },
  {
   "cell_type": "code",
   "execution_count": null,
   "id": "b2a749a6",
   "metadata": {},
   "outputs": [],
   "source": [
    "E=np.empty((0,6),float);E"
   ]
  },
  {
   "cell_type": "code",
   "execution_count": null,
   "id": "570524f3",
   "metadata": {},
   "outputs": [],
   "source": [
    "m=np.array([a,b,x,f(a),f(x),f(a)*f(x)]);m\n"
   ]
  },
  {
   "cell_type": "code",
   "execution_count": null,
   "id": "53ab5298",
   "metadata": {},
   "outputs": [],
   "source": [
    "np.append(E,m)"
   ]
  },
  {
   "cell_type": "code",
   "execution_count": null,
   "id": "9bd12fbb",
   "metadata": {},
   "outputs": [],
   "source": [
    "a=np.array([1,2,3,4,5,6])"
   ]
  },
  {
   "cell_type": "code",
   "execution_count": null,
   "id": "65e43023",
   "metadata": {},
   "outputs": [],
   "source": [
    "m=np.append(m,a,axis=0)"
   ]
  },
  {
   "cell_type": "code",
   "execution_count": null,
   "id": "e27a2749",
   "metadata": {},
   "outputs": [],
   "source": [
    "m"
   ]
  },
  {
   "cell_type": "code",
   "execution_count": null,
   "id": "778964ed",
   "metadata": {},
   "outputs": [],
   "source": [
    "m=np.matrix(m,nrow=6,ncol=True)"
   ]
  },
  {
   "cell_type": "code",
   "execution_count": null,
   "id": "7f62bd66",
   "metadata": {},
   "outputs": [],
   "source": [
    "l=[a,b,x,f(a),f(x),f(a)*f(x)];l\n",
    "\n"
   ]
  },
  {
   "cell_type": "code",
   "execution_count": null,
   "id": "6b979e5d",
   "metadata": {},
   "outputs": [],
   "source": [
    "l2=[1,2,3,4,5,6]\n",
    "pd.DataFrame(l2)\n"
   ]
  },
  {
   "cell_type": "code",
   "execution_count": null,
   "id": "80698005",
   "metadata": {},
   "outputs": [],
   "source": [
    "l3=[]"
   ]
  },
  {
   "cell_type": "code",
   "execution_count": null,
   "id": "573afc18",
   "metadata": {},
   "outputs": [],
   "source": [
    "l3.append(l)\n",
    "l3.append(l2)"
   ]
  },
  {
   "cell_type": "code",
   "execution_count": null,
   "id": "43343085",
   "metadata": {},
   "outputs": [],
   "source": [
    "l3"
   ]
  },
  {
   "cell_type": "code",
   "execution_count": null,
   "id": "d9c0dcb2",
   "metadata": {},
   "outputs": [],
   "source": [
    "pd.DataFrame(l3)"
   ]
  },
  {
   "cell_type": "code",
   "execution_count": 2,
   "id": "396e25d0",
   "metadata": {},
   "outputs": [
    {
     "data": {
      "text/html": [
       "<div>\n",
       "<style scoped>\n",
       "    .dataframe tbody tr th:only-of-type {\n",
       "        vertical-align: middle;\n",
       "    }\n",
       "\n",
       "    .dataframe tbody tr th {\n",
       "        vertical-align: top;\n",
       "    }\n",
       "\n",
       "    .dataframe thead th {\n",
       "        text-align: right;\n",
       "    }\n",
       "</style>\n",
       "<table border=\"1\" class=\"dataframe\">\n",
       "  <thead>\n",
       "    <tr style=\"text-align: right;\">\n",
       "      <th></th>\n",
       "      <th>0</th>\n",
       "      <th>1</th>\n",
       "      <th>2</th>\n",
       "      <th>3</th>\n",
       "      <th>4</th>\n",
       "      <th>5</th>\n",
       "    </tr>\n",
       "  </thead>\n",
       "  <tbody>\n",
       "    <tr>\n",
       "      <th>0</th>\n",
       "      <td>1.0000</td>\n",
       "      <td>3.000</td>\n",
       "      <td>2.00000</td>\n",
       "      <td>-6.000000</td>\n",
       "      <td>-1.000000</td>\n",
       "      <td>6.000000</td>\n",
       "    </tr>\n",
       "    <tr>\n",
       "      <th>0</th>\n",
       "      <td>2.0000</td>\n",
       "      <td>3.000</td>\n",
       "      <td>2.50000</td>\n",
       "      <td>-1.000000</td>\n",
       "      <td>5.625000</td>\n",
       "      <td>-5.625000</td>\n",
       "    </tr>\n",
       "    <tr>\n",
       "      <th>0</th>\n",
       "      <td>2.0000</td>\n",
       "      <td>2.500</td>\n",
       "      <td>2.25000</td>\n",
       "      <td>-1.000000</td>\n",
       "      <td>1.890625</td>\n",
       "      <td>-1.890625</td>\n",
       "    </tr>\n",
       "    <tr>\n",
       "      <th>0</th>\n",
       "      <td>2.0000</td>\n",
       "      <td>2.250</td>\n",
       "      <td>2.12500</td>\n",
       "      <td>-1.000000</td>\n",
       "      <td>0.345703</td>\n",
       "      <td>-0.345703</td>\n",
       "    </tr>\n",
       "    <tr>\n",
       "      <th>0</th>\n",
       "      <td>2.0000</td>\n",
       "      <td>2.125</td>\n",
       "      <td>2.06250</td>\n",
       "      <td>-1.000000</td>\n",
       "      <td>-0.351318</td>\n",
       "      <td>0.351318</td>\n",
       "    </tr>\n",
       "    <tr>\n",
       "      <th>0</th>\n",
       "      <td>2.0625</td>\n",
       "      <td>2.125</td>\n",
       "      <td>2.09375</td>\n",
       "      <td>-0.351318</td>\n",
       "      <td>-0.008942</td>\n",
       "      <td>0.003141</td>\n",
       "    </tr>\n",
       "  </tbody>\n",
       "</table>\n",
       "</div>"
      ],
      "text/plain": [
       "        0      1        2         3         4         5\n",
       "0  1.0000  3.000  2.00000 -6.000000 -1.000000  6.000000\n",
       "0  2.0000  3.000  2.50000 -1.000000  5.625000 -5.625000\n",
       "0  2.0000  2.500  2.25000 -1.000000  1.890625 -1.890625\n",
       "0  2.0000  2.250  2.12500 -1.000000  0.345703 -0.345703\n",
       "0  2.0000  2.125  2.06250 -1.000000 -0.351318  0.351318\n",
       "0  2.0625  2.125  2.09375 -0.351318 -0.008942  0.003141"
      ]
     },
     "execution_count": 2,
     "metadata": {},
     "output_type": "execute_result"
    }
   ],
   "source": [
    "import pandas as pd\n",
    "import numpy as np\n",
    "def f(x):\n",
    "    return(x**3-2*x-5)\n",
    "a=1\n",
    "b=3\n",
    "x=(a+b)/2\n",
    "l1=[a,b,x,f(a),f(x),f(a)*f(x)]\n",
    "d=pd.DataFrame(l1).T\n",
    "for i in range(5):\n",
    "    if(f(a)*f(x)>0):\n",
    "        a=x\n",
    "    else:\n",
    "        b=x\n",
    "    x=(a+b)/2\n",
    "    l2=[a,b,x,f(a),f(x),f(a)*f(x)]\n",
    "    d1=pd.DataFrame(l2).T\n",
    "    d=pd.concat([d,d1],axis=0)\n",
    "d"
   ]
  },
  {
   "cell_type": "code",
   "execution_count": null,
   "id": "649609f1",
   "metadata": {},
   "outputs": [],
   "source": []
  },
  {
   "cell_type": "code",
   "execution_count": null,
   "id": "cd7aae69",
   "metadata": {},
   "outputs": [],
   "source": []
  }
 ],
 "metadata": {
  "kernelspec": {
   "display_name": "Python 3",
   "language": "python",
   "name": "python3"
  },
  "language_info": {
   "codemirror_mode": {
    "name": "ipython",
    "version": 3
   },
   "file_extension": ".py",
   "mimetype": "text/x-python",
   "name": "python",
   "nbconvert_exporter": "python",
   "pygments_lexer": "ipython3",
   "version": "3.8.8"
  }
 },
 "nbformat": 4,
 "nbformat_minor": 5
}
