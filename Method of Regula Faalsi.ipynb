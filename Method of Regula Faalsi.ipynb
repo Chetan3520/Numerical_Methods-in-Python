{
 "cells": [
  {
   "cell_type": "code",
   "execution_count": 13,
   "id": "3ed547e1",
   "metadata": {},
   "outputs": [
    {
     "name": "stdout",
     "output_type": "stream",
     "text": [
      "-0.5\n"
     ]
    },
    {
     "data": {
      "text/html": [
       "<div>\n",
       "<style scoped>\n",
       "    .dataframe tbody tr th:only-of-type {\n",
       "        vertical-align: middle;\n",
       "    }\n",
       "\n",
       "    .dataframe tbody tr th {\n",
       "        vertical-align: top;\n",
       "    }\n",
       "\n",
       "    .dataframe thead th {\n",
       "        text-align: right;\n",
       "    }\n",
       "</style>\n",
       "<table border=\"1\" class=\"dataframe\">\n",
       "  <thead>\n",
       "    <tr style=\"text-align: right;\">\n",
       "      <th></th>\n",
       "      <th>x0</th>\n",
       "      <th>x1</th>\n",
       "      <th>f(x0)</th>\n",
       "      <th>f(x1)</th>\n",
       "      <th>x2</th>\n",
       "    </tr>\n",
       "  </thead>\n",
       "  <tbody>\n",
       "    <tr>\n",
       "      <th>0</th>\n",
       "      <td>0.000000</td>\n",
       "      <td>1.000000</td>\n",
       "      <td>1.000000</td>\n",
       "      <td>3.000000</td>\n",
       "      <td>-0.500000</td>\n",
       "    </tr>\n",
       "    <tr>\n",
       "      <th>1</th>\n",
       "      <td>1.000000</td>\n",
       "      <td>-0.500000</td>\n",
       "      <td>3.000000</td>\n",
       "      <td>0.375000</td>\n",
       "      <td>-0.714286</td>\n",
       "    </tr>\n",
       "    <tr>\n",
       "      <th>2</th>\n",
       "      <td>-0.500000</td>\n",
       "      <td>-0.714286</td>\n",
       "      <td>0.375000</td>\n",
       "      <td>-0.078717</td>\n",
       "      <td>-0.677108</td>\n",
       "    </tr>\n",
       "    <tr>\n",
       "      <th>3</th>\n",
       "      <td>-0.714286</td>\n",
       "      <td>-0.677108</td>\n",
       "      <td>-0.078717</td>\n",
       "      <td>0.012454</td>\n",
       "      <td>-0.682187</td>\n",
       "    </tr>\n",
       "    <tr>\n",
       "      <th>4</th>\n",
       "      <td>-0.677108</td>\n",
       "      <td>-0.682187</td>\n",
       "      <td>0.012454</td>\n",
       "      <td>0.000338</td>\n",
       "      <td>-0.682328</td>\n",
       "    </tr>\n",
       "  </tbody>\n",
       "</table>\n",
       "</div>"
      ],
      "text/plain": [
       "         x0        x1     f(x0)     f(x1)        x2\n",
       "0  0.000000  1.000000  1.000000  3.000000 -0.500000\n",
       "1  1.000000 -0.500000  3.000000  0.375000 -0.714286\n",
       "2 -0.500000 -0.714286  0.375000 -0.078717 -0.677108\n",
       "3 -0.714286 -0.677108 -0.078717  0.012454 -0.682187\n",
       "4 -0.677108 -0.682187  0.012454  0.000338 -0.682328"
      ]
     },
     "execution_count": 13,
     "metadata": {},
     "output_type": "execute_result"
    }
   ],
   "source": [
    "import pandas as pd\n",
    "import numpy as np\n",
    "def f(x):\n",
    "    return(pow(x,3)+x+1)\n",
    "x0=0\n",
    "x1=1\n",
    "x2=x1-((x1-x0)/(f(x1)-f(x0)))*f(x1)\n",
    "print(x2)\n",
    "l=[]\n",
    "l1=[x0,x1,f(x0),f(x1),x2]\n",
    "l.append(l1)\n",
    "e=1\n",
    "while(e>0.01):\n",
    "    e=abs(x1-x2)\n",
    "    x0=x1\n",
    "    x1=x2\n",
    "    x2=x1-((x1-x0)/(f(x1)-f(x0)))*f(x1)\n",
    "    l2=[x0,x1,f(x0),f(x1),x2]\n",
    "    l.append(l2)\n",
    "df=pd.DataFrame(l)\n",
    "new=df.rename(columns={0:'x0',1:'x1',2:'f(x0)',3:'f(x1)',4:'x2'});new"
   ]
  },
  {
   "cell_type": "code",
   "execution_count": 4,
   "id": "3ee1007c",
   "metadata": {},
   "outputs": [
    {
     "data": {
      "text/plain": [
       "[[0, 1, 1, 3, 2.5]]"
      ]
     },
     "execution_count": 4,
     "metadata": {},
     "output_type": "execute_result"
    }
   ],
   "source": [
    "import pandas as pd\n",
    "import numpy as np\n",
    "def f(x):\n",
    "    return(x**3+x+1)\n",
    "x0=0\n",
    "x1=1\n",
    "x2=x1-(x1-x0)*f(x1)/(f(x0)-f(x1))\n",
    "l=[]\n",
    "l1=[x0,x1,f(x0),f(x1),x2]\n",
    "l.append(l1)\n",
    "l"
   ]
  },
  {
   "cell_type": "code",
   "execution_count": 2,
   "id": "0698b395",
   "metadata": {},
   "outputs": [
    {
     "data": {
      "text/plain": [
       "1"
      ]
     },
     "execution_count": 2,
     "metadata": {},
     "output_type": "execute_result"
    }
   ],
   "source": [
    "abs(4-5)"
   ]
  },
  {
   "cell_type": "code",
   "execution_count": null,
   "id": "b2dab1e4",
   "metadata": {},
   "outputs": [],
   "source": []
  }
 ],
 "metadata": {
  "kernelspec": {
   "display_name": "Python 3",
   "language": "python",
   "name": "python3"
  },
  "language_info": {
   "codemirror_mode": {
    "name": "ipython",
    "version": 3
   },
   "file_extension": ".py",
   "mimetype": "text/x-python",
   "name": "python",
   "nbconvert_exporter": "python",
   "pygments_lexer": "ipython3",
   "version": "3.8.8"
  }
 },
 "nbformat": 4,
 "nbformat_minor": 5
}
