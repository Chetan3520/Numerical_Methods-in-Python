{
 "cells": [
  {
   "cell_type": "markdown",
   "id": "e21420e7",
   "metadata": {},
   "source": [
    "# Trapezoidal Numerical Method for Integration"
   ]
  },
  {
   "cell_type": "code",
   "execution_count": 1,
   "id": "d8f2ae02",
   "metadata": {},
   "outputs": [
    {
     "data": {
      "text/plain": [
       "0.6948773448773449"
      ]
     },
     "execution_count": 1,
     "metadata": {},
     "output_type": "execute_result"
    }
   ],
   "source": [
    "def f(x):\n",
    "    return(1/(1+x))\n",
    "a=0;b=1;n=6;h=(b-a)/n\n",
    "import numpy as np\n",
    "x=np.arange(a,b+0.1,h)\n",
    "y=f(x)\n",
    "s=y[0]+y[n]\n",
    "s1=(h/2)*(s+2*sum(y[np.arange(1,n)]));s1\n"
   ]
  },
  {
   "cell_type": "markdown",
   "id": "db4babeb",
   "metadata": {},
   "source": [
    "# Simphsons 1/3 rd Numerical Method for Integration\n"
   ]
  },
  {
   "cell_type": "code",
   "execution_count": 2,
   "id": "95651901",
   "metadata": {},
   "outputs": [
    {
     "data": {
      "text/plain": [
       "0.6931697931697932"
      ]
     },
     "execution_count": 2,
     "metadata": {},
     "output_type": "execute_result"
    }
   ],
   "source": [
    "def f(x):\n",
    "    return(1/(1+x))\n",
    "a=0;b=1;n=6;h=(b-a)/n\n",
    "import numpy as np\n",
    "x=np.arange(a,b+0.1,h)\n",
    "y=f(x)\n",
    "s=y[0]+y[n]\n",
    "s=(h/3)*(s+4*sum(y[np.arange(1,n,2)])+2*sum(y[np.arange(2,n,2)]));s"
   ]
  },
  {
   "cell_type": "markdown",
   "id": "d3a0b9d6",
   "metadata": {},
   "source": [
    "# Simphsons 3/8 th Numerical Method for Integration\n"
   ]
  },
  {
   "cell_type": "code",
   "execution_count": 1,
   "id": "6c49142e",
   "metadata": {},
   "outputs": [
    {
     "data": {
      "text/plain": [
       "0.6931953463203464"
      ]
     },
     "execution_count": 1,
     "metadata": {},
     "output_type": "execute_result"
    }
   ],
   "source": [
    "def f(x):\n",
    "    return(1/(1+x))\n",
    "a=0;b=1;n=6;h=(b-a)/n\n",
    "import numpy as np\n",
    "x=np.arange(a,b+0.1,h)\n",
    "y=f(x)\n",
    "s=y[0]+y[n]\n",
    "a=np.arange(3,n,3) #Multiple of 3\n",
    "b=np.arange(1,n)\n",
    "l=[]\n",
    "for i in b:\n",
    "    if(i not in a ):\n",
    "        l.append(i)\n",
    "l \n",
    "l=np.array(l) #Non Multiple of 3\n",
    "s=(3*h/8)*(s+2*sum(y[np.arange(3,n,3)])+3*sum(y[l]));s\n"
   ]
  },
  {
   "cell_type": "code",
   "execution_count": 21,
   "id": "2037f211",
   "metadata": {},
   "outputs": [
    {
     "data": {
      "text/plain": [
       "0.6931953463203463"
      ]
     },
     "execution_count": 21,
     "metadata": {},
     "output_type": "execute_result"
    }
   ],
   "source": [
    "def f(x):\n",
    "    return(1/(1+x))\n",
    "a=0;b=1;n=6;h=(b-a)/n\n",
    "import numpy as np\n",
    "x=np.arange(a,b+0.1,h)\n",
    "y=f(x)\n",
    "3*h/8*(y[0]+y[n]+3*sum(y[1:n])-sum(y[np.arange(3,n,3)]))"
   ]
  },
  {
   "cell_type": "code",
   "execution_count": 17,
   "id": "18929e1f",
   "metadata": {},
   "outputs": [
    {
     "data": {
      "text/plain": [
       "array([1.        , 0.85714286, 0.75      , 0.66666667, 0.6       ,\n",
       "       0.54545455, 0.5       ])"
      ]
     },
     "execution_count": 17,
     "metadata": {},
     "output_type": "execute_result"
    }
   ],
   "source": [
    "y"
   ]
  },
  {
   "cell_type": "code",
   "execution_count": 18,
   "id": "fcf38ceb",
   "metadata": {},
   "outputs": [
    {
     "data": {
      "text/plain": [
       "array([0.85714286])"
      ]
     },
     "execution_count": 18,
     "metadata": {},
     "output_type": "execute_result"
    }
   ],
   "source": [
    "y[1:2]"
   ]
  },
  {
   "cell_type": "markdown",
   "id": "945d4931",
   "metadata": {},
   "source": [
    "# Trial and Errors"
   ]
  },
  {
   "cell_type": "code",
   "execution_count": 6,
   "id": "57bb838e",
   "metadata": {},
   "outputs": [
    {
     "ename": "AttributeError",
     "evalue": "'numpy.ndarray' object has no attribute 'pop'",
     "output_type": "error",
     "traceback": [
      "\u001b[1;31m---------------------------------------------------------------------------\u001b[0m",
      "\u001b[1;31mAttributeError\u001b[0m                            Traceback (most recent call last)",
      "\u001b[1;32m<ipython-input-6-a78d1a01ee65>\u001b[0m in \u001b[0;36m<module>\u001b[1;34m\u001b[0m\n\u001b[0;32m      1\u001b[0m \u001b[0mb\u001b[0m\u001b[1;33m=\u001b[0m\u001b[0mnp\u001b[0m\u001b[1;33m.\u001b[0m\u001b[0marange\u001b[0m\u001b[1;33m(\u001b[0m\u001b[1;36m1\u001b[0m\u001b[1;33m,\u001b[0m\u001b[0mn\u001b[0m\u001b[1;33m+\u001b[0m\u001b[1;36m1\u001b[0m\u001b[1;33m,\u001b[0m\u001b[1;36m1\u001b[0m\u001b[1;33m)\u001b[0m\u001b[1;33m;\u001b[0m\u001b[0mb\u001b[0m\u001b[1;33m\u001b[0m\u001b[1;33m\u001b[0m\u001b[0m\n\u001b[1;32m----> 2\u001b[1;33m \u001b[0mb\u001b[0m\u001b[1;33m.\u001b[0m\u001b[0mpop\u001b[0m\u001b[1;33m(\u001b[0m\u001b[1;33m[\u001b[0m\u001b[1;36m0\u001b[0m\u001b[1;33m,\u001b[0m\u001b[0mn\u001b[0m\u001b[1;33m+\u001b[0m\u001b[1;36m1\u001b[0m\u001b[1;33m,\u001b[0m\u001b[0ma\u001b[0m\u001b[1;33m]\u001b[0m\u001b[1;33m)\u001b[0m\u001b[1;33m\u001b[0m\u001b[1;33m\u001b[0m\u001b[0m\n\u001b[0m",
      "\u001b[1;31mAttributeError\u001b[0m: 'numpy.ndarray' object has no attribute 'pop'"
     ]
    }
   ],
   "source": [
    "b=np.arange(1,n+1,1);b\n",
    "b.pop([0,n+1,a])\n"
   ]
  },
  {
   "cell_type": "code",
   "execution_count": 7,
   "id": "38b536d3",
   "metadata": {},
   "outputs": [
    {
     "data": {
      "text/plain": [
       "array([3])"
      ]
     },
     "execution_count": 7,
     "metadata": {},
     "output_type": "execute_result"
    }
   ],
   "source": [
    "np.arange(3,n,3)"
   ]
  },
  {
   "cell_type": "code",
   "execution_count": 8,
   "id": "877c770a",
   "metadata": {},
   "outputs": [
    {
     "data": {
      "text/plain": [
       "1.85"
      ]
     },
     "execution_count": 8,
     "metadata": {},
     "output_type": "execute_result"
    }
   ],
   "source": [
    "sum(y[np.arange(2,n+1,2)])"
   ]
  },
  {
   "cell_type": "code",
   "execution_count": 9,
   "id": "ecdd7307",
   "metadata": {},
   "outputs": [
    {
     "data": {
      "text/plain": [
       "2.069264069264069"
      ]
     },
     "execution_count": 9,
     "metadata": {},
     "output_type": "execute_result"
    }
   ],
   "source": [
    "sum(y[np.arange(1,n,2)])"
   ]
  },
  {
   "cell_type": "code",
   "execution_count": 10,
   "id": "63686d43",
   "metadata": {},
   "outputs": [
    {
     "data": {
      "text/plain": [
       "0.5"
      ]
     },
     "execution_count": 10,
     "metadata": {},
     "output_type": "execute_result"
    }
   ],
   "source": [
    "y[n]"
   ]
  },
  {
   "cell_type": "code",
   "execution_count": 11,
   "id": "d28b5a1c",
   "metadata": {},
   "outputs": [],
   "source": [
    "b=np.arange(1,n+1)\n",
    "b1=np.array([1,2,5])"
   ]
  },
  {
   "cell_type": "code",
   "execution_count": 1,
   "id": "21cd915f",
   "metadata": {},
   "outputs": [
    {
     "ename": "NameError",
     "evalue": "name 'b' is not defined",
     "output_type": "error",
     "traceback": [
      "\u001b[1;31m---------------------------------------------------------------------------\u001b[0m",
      "\u001b[1;31mNameError\u001b[0m                                 Traceback (most recent call last)",
      "\u001b[1;32m<ipython-input-1-dab5d4cba90c>\u001b[0m in \u001b[0;36m<module>\u001b[1;34m\u001b[0m\n\u001b[0;32m      1\u001b[0m \u001b[0ml\u001b[0m\u001b[1;33m=\u001b[0m\u001b[1;33m[\u001b[0m\u001b[1;33m]\u001b[0m\u001b[1;33m\u001b[0m\u001b[1;33m\u001b[0m\u001b[0m\n\u001b[1;32m----> 2\u001b[1;33m \u001b[1;32mfor\u001b[0m \u001b[0mi\u001b[0m \u001b[1;32min\u001b[0m \u001b[0mb\u001b[0m\u001b[1;33m:\u001b[0m\u001b[1;33m\u001b[0m\u001b[1;33m\u001b[0m\u001b[0m\n\u001b[0m\u001b[0;32m      3\u001b[0m     \u001b[1;32mif\u001b[0m\u001b[1;33m(\u001b[0m\u001b[0mi\u001b[0m \u001b[1;32mnot\u001b[0m \u001b[1;32min\u001b[0m \u001b[0mb1\u001b[0m \u001b[1;33m)\u001b[0m\u001b[1;33m:\u001b[0m\u001b[1;33m\u001b[0m\u001b[1;33m\u001b[0m\u001b[0m\n\u001b[0;32m      4\u001b[0m         \u001b[0ml\u001b[0m\u001b[1;33m.\u001b[0m\u001b[0mappend\u001b[0m\u001b[1;33m(\u001b[0m\u001b[0mi\u001b[0m\u001b[1;33m)\u001b[0m\u001b[1;33m\u001b[0m\u001b[1;33m\u001b[0m\u001b[0m\n\u001b[0;32m      5\u001b[0m \u001b[0ml\u001b[0m\u001b[1;33m\u001b[0m\u001b[1;33m\u001b[0m\u001b[0m\n",
      "\u001b[1;31mNameError\u001b[0m: name 'b' is not defined"
     ]
    }
   ],
   "source": [
    "l=[]\n",
    "for i in b:\n",
    "    if(i not in b1 ):\n",
    "        l.append(i)\n",
    "l        "
   ]
  },
  {
   "cell_type": "code",
   "execution_count": null,
   "id": "f0751df8",
   "metadata": {},
   "outputs": [],
   "source": []
  }
 ],
 "metadata": {
  "kernelspec": {
   "display_name": "Python 3",
   "language": "python",
   "name": "python3"
  },
  "language_info": {
   "codemirror_mode": {
    "name": "ipython",
    "version": 3
   },
   "file_extension": ".py",
   "mimetype": "text/x-python",
   "name": "python",
   "nbconvert_exporter": "python",
   "pygments_lexer": "ipython3",
   "version": "3.8.8"
  }
 },
 "nbformat": 4,
 "nbformat_minor": 5
}
